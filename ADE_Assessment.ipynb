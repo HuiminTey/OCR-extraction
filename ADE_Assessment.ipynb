{
 "cells": [
  {
   "cell_type": "markdown",
   "id": "0678e74c-abfb-4fd5-b26a-4bb9d0078627",
   "metadata": {},
   "source": [
    "# Assessment - Tey Huimin"
   ]
  },
  {
   "cell_type": "markdown",
   "id": "4d06560b-580f-458c-992b-2472a502fd06",
   "metadata": {
    "tags": []
   },
   "source": [
    "## Load Library"
   ]
  },
  {
   "cell_type": "code",
   "execution_count": 1,
   "id": "f0bd4a28-952d-40bd-8747-67fc3ed5f859",
   "metadata": {},
   "outputs": [
    {
     "name": "stdout",
     "output_type": "stream",
     "text": [
      "time: 342 µs (started: 2024-05-06 21:12:54 +08:00)\n"
     ]
    }
   ],
   "source": [
    "import pandas as pd\n",
    "import pytesseract\n",
    "import numpy as np\n",
    "import re\n",
    "import os\n",
    "import cv2\n",
    "import shutil\n",
    "from matplotlib import pyplot as plt\n",
    "from pdf2image import convert_from_path\n",
    "from datetime import date\n",
    "import itertools\n",
    "from datetime import date, timedelta  \n",
    "from dateutil.relativedelta import relativedelta\n",
    "import oss2\n",
    "import os \n",
    "from matplotlib.patches import Rectangle\n",
    "from google.cloud import vision\n",
    "import io\n",
    "\n",
    "# %load_ext autotime\n",
    "%reload_ext autotime\n",
    "\n",
    "# Load Google service account json file\n",
    "os.environ[\"GOOGLE_APPLICATION_CREDENTIALS\"] = os.getcwd()+'/g_keys.json'"
   ]
  },
  {
   "cell_type": "markdown",
   "id": "0e1eeef1-181f-4ff2-ba33-5604826ef1ae",
   "metadata": {},
   "source": [
    "## Step 1 : Segmenting the page by lines\n",
    "\n",
    "Use OpenCV to find lines between sections, and use the coordinates of the lines to break the image into segments"
   ]
  },
  {
   "cell_type": "code",
   "execution_count": 2,
   "id": "b2dd20ce-dcce-44eb-891c-78b5002ca264",
   "metadata": {},
   "outputs": [
    {
     "data": {
      "text/plain": [
       "<matplotlib.image.AxesImage at 0x7faec078ec40>"
      ]
     },
     "execution_count": 2,
     "metadata": {},
     "output_type": "execute_result"
    },
    {
     "data": {
      "image/png": "[encoded data removed]",
      "text/plain": [
       "<Figure size 1728x1728 with 1 Axes>"
      ]
     },
     "metadata": {
      "needs_background": "light"
     },
     "output_type": "display_data"
    },
    {
     "name": "stdout",
     "output_type": "stream",
     "text": [
      "time: 697 ms (started: 2024-05-06 21:12:54 +08:00)\n"
     ]
    }
   ],
   "source": [
    "image_path = 'img.png' \n",
    "\n",
    "def findHorizontalLines(img):\n",
    "    img = cv2.imread(img) \n",
    "    \n",
    "    #convert image to greyscale\n",
    "    gray = cv2.cvtColor(img,cv2.COLOR_BGR2GRAY)\n",
    "    \n",
    "    # set threshold to remove background noise\n",
    "    thresh = cv2.threshold(gray,30, 255, cv2.THRESH_BINARY_INV + cv2.THRESH_OTSU)[1]\n",
    "\n",
    "    \n",
    "    # define rectangle structure (line) to look for: width 100, hight 1. This is a \n",
    "    horizontal_kernel = cv2.getStructuringElement(cv2.MORPH_RECT, (200,1))\n",
    "    \n",
    "    # Find horizontal lines\n",
    "    lineLocations = cv2.morphologyEx(thresh, cv2.MORPH_OPEN, horizontal_kernel, iterations=1)\n",
    "    \n",
    "    return lineLocations\n",
    "\n",
    "lineLocations = findHorizontalLines(image_path)\n",
    "plt.figure(figsize=(24,24))\n",
    "plt.imshow(lineLocations, cmap='Greys')"
   ]
  },
  {
   "cell_type": "code",
   "execution_count": 3,
   "id": "dd800b58-db78-4edd-a345-f439b9170c42",
   "metadata": {},
   "outputs": [
    {
     "data": {
      "text/html": [
       "<div>\n",
       "<style scoped>\n",
       "    .dataframe tbody tr th:only-of-type {\n",
       "        vertical-align: middle;\n",
       "    }\n",
       "\n",
       "    .dataframe tbody tr th {\n",
       "        vertical-align: top;\n",
       "    }\n",
       "\n",
       "    .dataframe thead th {\n",
       "        text-align: right;\n",
       "    }\n",
       "</style>\n",
       "<table border=\"1\" class=\"dataframe\">\n",
       "  <thead>\n",
       "    <tr style=\"text-align: right;\">\n",
       "      <th></th>\n",
       "      <th>rowLoc</th>\n",
       "      <th>LineLength</th>\n",
       "    </tr>\n",
       "  </thead>\n",
       "  <tbody>\n",
       "    <tr>\n",
       "      <th>111</th>\n",
       "      <td>111</td>\n",
       "      <td>322575</td>\n",
       "    </tr>\n",
       "    <tr>\n",
       "      <th>177</th>\n",
       "      <td>177</td>\n",
       "      <td>322830</td>\n",
       "    </tr>\n",
       "    <tr>\n",
       "      <th>178</th>\n",
       "      <td>178</td>\n",
       "      <td>322830</td>\n",
       "    </tr>\n",
       "    <tr>\n",
       "      <th>244</th>\n",
       "      <td>244</td>\n",
       "      <td>322830</td>\n",
       "    </tr>\n",
       "    <tr>\n",
       "      <th>245</th>\n",
       "      <td>245</td>\n",
       "      <td>322830</td>\n",
       "    </tr>\n",
       "    <tr>\n",
       "      <th>310</th>\n",
       "      <td>310</td>\n",
       "      <td>322830</td>\n",
       "    </tr>\n",
       "    <tr>\n",
       "      <th>311</th>\n",
       "      <td>311</td>\n",
       "      <td>322830</td>\n",
       "    </tr>\n",
       "    <tr>\n",
       "      <th>377</th>\n",
       "      <td>377</td>\n",
       "      <td>322830</td>\n",
       "    </tr>\n",
       "    <tr>\n",
       "      <th>378</th>\n",
       "      <td>378</td>\n",
       "      <td>322830</td>\n",
       "    </tr>\n",
       "    <tr>\n",
       "      <th>443</th>\n",
       "      <td>443</td>\n",
       "      <td>322830</td>\n",
       "    </tr>\n",
       "    <tr>\n",
       "      <th>444</th>\n",
       "      <td>444</td>\n",
       "      <td>322830</td>\n",
       "    </tr>\n",
       "    <tr>\n",
       "      <th>510</th>\n",
       "      <td>510</td>\n",
       "      <td>322830</td>\n",
       "    </tr>\n",
       "    <tr>\n",
       "      <th>511</th>\n",
       "      <td>511</td>\n",
       "      <td>322830</td>\n",
       "    </tr>\n",
       "    <tr>\n",
       "      <th>577</th>\n",
       "      <td>577</td>\n",
       "      <td>322575</td>\n",
       "    </tr>\n",
       "  </tbody>\n",
       "</table>\n",
       "</div>"
      ],
      "text/plain": [
       "     rowLoc  LineLength\n",
       "111     111      322575\n",
       "177     177      322830\n",
       "178     178      322830\n",
       "244     244      322830\n",
       "245     245      322830\n",
       "310     310      322830\n",
       "311     311      322830\n",
       "377     377      322830\n",
       "378     378      322830\n",
       "443     443      322830\n",
       "444     444      322830\n",
       "510     510      322830\n",
       "511     511      322830\n",
       "577     577      322575"
      ]
     },
     "execution_count": 3,
     "metadata": {},
     "output_type": "execute_result"
    },
    {
     "name": "stdout",
     "output_type": "stream",
     "text": [
      "time: 9.99 ms (started: 2024-05-06 21:12:55 +08:00)\n"
     ]
    }
   ],
   "source": [
    "df_lineLocations = pd.DataFrame(lineLocations.sum(axis=1)).reset_index()\n",
    "df_lineLocations.columns = ['rowLoc', 'LineLength']\n",
    "df_lineLocations[df_lineLocations['LineLength'] > 0]"
   ]
  },
  {
   "cell_type": "code",
   "execution_count": 4,
   "id": "81547efe-03d7-4da6-a1e3-a9982d4efd20",
   "metadata": {},
   "outputs": [
    {
     "name": "stderr",
     "output_type": "stream",
     "text": [
      "/var/folders/34/8y5wtrvx2l3gm5t_10cfxprc0000gp/T/ipykernel_11109/3012487649.py:2: SettingWithCopyWarning: \n",
      "A value is trying to be set on a copy of a slice from a DataFrame\n",
      "\n",
      "See the caveats in the documentation: https://pandas.pydata.org/pandas-docs/stable/user_guide/indexing.html#returning-a-view-versus-a-copy\n",
      "  df_lineLocations['line'][df_lineLocations['LineLength'] > 100] = 1\n"
     ]
    },
    {
     "data": {
      "text/html": [
       "<div>\n",
       "<style scoped>\n",
       "    .dataframe tbody tr th:only-of-type {\n",
       "        vertical-align: middle;\n",
       "    }\n",
       "\n",
       "    .dataframe tbody tr th {\n",
       "        vertical-align: top;\n",
       "    }\n",
       "\n",
       "    .dataframe thead th {\n",
       "        text-align: right;\n",
       "    }\n",
       "</style>\n",
       "<table border=\"1\" class=\"dataframe\">\n",
       "  <thead>\n",
       "    <tr style=\"text-align: right;\">\n",
       "      <th></th>\n",
       "      <th>rowLoc</th>\n",
       "      <th>LineLength</th>\n",
       "      <th>line</th>\n",
       "      <th>cumSum</th>\n",
       "    </tr>\n",
       "  </thead>\n",
       "  <tbody>\n",
       "    <tr>\n",
       "      <th>0</th>\n",
       "      <td>0</td>\n",
       "      <td>0</td>\n",
       "      <td>0</td>\n",
       "      <td>0</td>\n",
       "    </tr>\n",
       "    <tr>\n",
       "      <th>1</th>\n",
       "      <td>1</td>\n",
       "      <td>0</td>\n",
       "      <td>0</td>\n",
       "      <td>0</td>\n",
       "    </tr>\n",
       "    <tr>\n",
       "      <th>2</th>\n",
       "      <td>2</td>\n",
       "      <td>0</td>\n",
       "      <td>0</td>\n",
       "      <td>0</td>\n",
       "    </tr>\n",
       "    <tr>\n",
       "      <th>3</th>\n",
       "      <td>3</td>\n",
       "      <td>0</td>\n",
       "      <td>0</td>\n",
       "      <td>0</td>\n",
       "    </tr>\n",
       "    <tr>\n",
       "      <th>4</th>\n",
       "      <td>4</td>\n",
       "      <td>0</td>\n",
       "      <td>0</td>\n",
       "      <td>0</td>\n",
       "    </tr>\n",
       "  </tbody>\n",
       "</table>\n",
       "</div>"
      ],
      "text/plain": [
       "   rowLoc  LineLength  line  cumSum\n",
       "0       0           0     0       0\n",
       "1       1           0     0       0\n",
       "2       2           0     0       0\n",
       "3       3           0     0       0\n",
       "4       4           0     0       0"
      ]
     },
     "execution_count": 4,
     "metadata": {},
     "output_type": "execute_result"
    },
    {
     "name": "stdout",
     "output_type": "stream",
     "text": [
      "time: 7.25 ms (started: 2024-05-06 21:12:55 +08:00)\n"
     ]
    }
   ],
   "source": [
    "df_lineLocations['line'] = 0\n",
    "df_lineLocations['line'][df_lineLocations['LineLength'] > 100] = 1\n",
    "\n",
    "df_lineLocations['cumSum'] = df_lineLocations['line'].cumsum()\n",
    "df_lineLocations.head()"
   ]
  },
  {
   "cell_type": "code",
   "execution_count": 16,
   "id": "26a34499-47a4-44e5-8cb3-d5b55405d29e",
   "metadata": {
    "tags": []
   },
   "outputs": [
    {
     "data": {
      "text/html": [
       "<div>\n",
       "<style scoped>\n",
       "    .dataframe tbody tr th:only-of-type {\n",
       "        vertical-align: middle;\n",
       "    }\n",
       "\n",
       "    .dataframe tbody tr th {\n",
       "        vertical-align: top;\n",
       "    }\n",
       "\n",
       "    .dataframe thead th {\n",
       "        text-align: right;\n",
       "    }\n",
       "</style>\n",
       "<table border=\"1\" class=\"dataframe\">\n",
       "  <thead>\n",
       "    <tr style=\"text-align: right;\">\n",
       "      <th></th>\n",
       "      <th>SegmentOrder</th>\n",
       "      <th>SegmentStart</th>\n",
       "      <th>Height</th>\n",
       "    </tr>\n",
       "  </thead>\n",
       "  <tbody>\n",
       "    <tr>\n",
       "      <th>0</th>\n",
       "      <td>1</td>\n",
       "      <td>0</td>\n",
       "      <td>110</td>\n",
       "    </tr>\n",
       "    <tr>\n",
       "      <th>1</th>\n",
       "      <td>2</td>\n",
       "      <td>112</td>\n",
       "      <td>64</td>\n",
       "    </tr>\n",
       "    <tr>\n",
       "      <th>2</th>\n",
       "      <td>3</td>\n",
       "      <td>179</td>\n",
       "      <td>64</td>\n",
       "    </tr>\n",
       "    <tr>\n",
       "      <th>3</th>\n",
       "      <td>4</td>\n",
       "      <td>246</td>\n",
       "      <td>63</td>\n",
       "    </tr>\n",
       "    <tr>\n",
       "      <th>4</th>\n",
       "      <td>5</td>\n",
       "      <td>312</td>\n",
       "      <td>64</td>\n",
       "    </tr>\n",
       "    <tr>\n",
       "      <th>5</th>\n",
       "      <td>6</td>\n",
       "      <td>379</td>\n",
       "      <td>63</td>\n",
       "    </tr>\n",
       "    <tr>\n",
       "      <th>6</th>\n",
       "      <td>7</td>\n",
       "      <td>445</td>\n",
       "      <td>64</td>\n",
       "    </tr>\n",
       "    <tr>\n",
       "      <th>7</th>\n",
       "      <td>8</td>\n",
       "      <td>512</td>\n",
       "      <td>64</td>\n",
       "    </tr>\n",
       "    <tr>\n",
       "      <th>8</th>\n",
       "      <td>9</td>\n",
       "      <td>578</td>\n",
       "      <td>537</td>\n",
       "    </tr>\n",
       "  </tbody>\n",
       "</table>\n",
       "</div>"
      ],
      "text/plain": [
       "   SegmentOrder  SegmentStart  Height\n",
       "0             1             0     110\n",
       "1             2           112      64\n",
       "2             3           179      64\n",
       "3             4           246      63\n",
       "4             5           312      64\n",
       "5             6           379      63\n",
       "6             7           445      64\n",
       "7             8           512      64\n",
       "8             9           578     537"
      ]
     },
     "execution_count": 16,
     "metadata": {},
     "output_type": "execute_result"
    },
    {
     "name": "stdout",
     "output_type": "stream",
     "text": [
      "time: 14.9 ms (started: 2024-05-06 21:20:38 +08:00)\n"
     ]
    }
   ],
   "source": [
    "# Filter the DataFrame\n",
    "filtered_df = df_lineLocations[df_lineLocations['line'] == 0]\n",
    "\n",
    "# Group by cumSum and perform aggregations\n",
    "grouped_df = filtered_df.groupby('cumSum').agg(\n",
    "    SegmentStart=('rowLoc', 'min'),\n",
    "    Height=('rowLoc', lambda x: x.max() - x.min())\n",
    ")\n",
    "\n",
    "# Add SegmentOrder column using row_number()\n",
    "grouped_df['SegmentOrder'] = range(1, len(grouped_df) + 1)\n",
    "\n",
    "# Reorder columns as per the original SQL query\n",
    "df_SegmentLocations = grouped_df[['SegmentOrder', 'SegmentStart', 'Height']].reset_index()\n",
    "df_SegmentLocations = df_SegmentLocations.drop('cumSum', axis=1)\n",
    "df_SegmentLocations"
   ]
  },
  {
   "cell_type": "code",
   "execution_count": 17,
   "id": "c21b03e8-5dfb-456b-82e1-9a4c196e79ad",
   "metadata": {},
   "outputs": [
    {
     "data": {
      "image/png": "[encoded data removed]",
      "text/plain": [
       "<Figure size 576x576 with 1 Axes>"
      ]
     },
     "metadata": {
      "needs_background": "light"
     },
     "output_type": "display_data"
    },
    {
     "data": {
      "image/png": "[encoded data removed]",
      "text/plain": [
       "<Figure size 576x576 with 1 Axes>"
      ]
     },
     "metadata": {
      "needs_background": "light"
     },
     "output_type": "display_data"
    },
    {
     "data": {
      "image/png": "[encoded data removed]",
      "text/plain": [
       "<Figure size 576x576 with 1 Axes>"
      ]
     },
     "metadata": {
      "needs_background": "light"
     },
     "output_type": "display_data"
    },
    {
     "data": {
      "image/png": "[encoded data removed]",
      "text/plain": [
       "<Figure size 576x576 with 1 Axes>"
      ]
     },
     "metadata": {
      "needs_background": "light"
     },
     "output_type": "display_data"
    },
    {
     "data": {
      "image/png": "[encoded data removed]",
      "text/plain": [
       "<Figure size 576x576 with 1 Axes>"
      ]
     },
     "metadata": {
      "needs_background": "light"
     },
     "output_type": "display_data"
    },
    {
     "data": {
      "image/png": "[encoded data removed]",
      "text/plain": [
       "<Figure size 576x576 with 1 Axes>"
      ]
     },
     "metadata": {
      "needs_background": "light"
     },
     "output_type": "display_data"
    },
    {
     "data": {
      "image/png": "[encoded data removed]",
      "text/plain": [
       "<Figure size 576x576 with 1 Axes>"
      ]
     },
     "metadata": {
      "needs_background": "light"
     },
     "output_type": "display_data"
    },
    {
     "data": {
      "image/png": "[encoded data removed]",
      "text/plain": [
       "<Figure size 576x576 with 1 Axes>"
      ]
     },
     "metadata": {
      "needs_background": "light"
     },
     "output_type": "display_data"
    },
    {
     "data": {
      "image/png": "[encoded data removed]",
      "text/plain": [
       "<Figure size 576x576 with 1 Axes>"
      ]
     },
     "metadata": {
      "needs_background": "light"
     },
     "output_type": "display_data"
    },
    {
     "name": "stdout",
     "output_type": "stream",
     "text": [
      "time: 758 ms (started: 2024-05-06 21:20:56 +08:00)\n"
     ]
    }
   ],
   "source": [
    "def pageSegmentation1(img, w, df_SegmentLocations):\n",
    "    img = cv2.imread(img) \n",
    "    im2 = img.copy()\n",
    "    segments = []\n",
    "\n",
    "    for i in range(len(df_SegmentLocations)):\n",
    "        y = df_SegmentLocations['SegmentStart'][i]\n",
    "        h = df_SegmentLocations['Height'][i]\n",
    "\n",
    "        cropped = im2[y:y + h, 0:w] \n",
    "        segments.append(cropped)\n",
    "        plt.figure(figsize=(8,8))\n",
    "        plt.imshow(cropped)\n",
    "        plt.title(str(i+1))        \n",
    "\n",
    "    return segments\n",
    "\n",
    "img = image_path\n",
    "w = lineLocations.shape[1]\n",
    "segments = pageSegmentation1(img, w, df_SegmentLocations)"
   ]
  },
  {
   "cell_type": "markdown",
   "id": "ccc92df7-78f3-4d92-afb5-6e464865a6c2",
   "metadata": {},
   "source": [
    "## Step 2 : Extracting the text by segments\n",
    "\n",
    "Using Google Cloud Vision API for the image to text extraction as it can accommodate handwritten text extraction better and pytesseract."
   ]
  },
  {
   "cell_type": "code",
   "execution_count": 19,
   "id": "31436006-6a20-4b9b-98d2-b5f7457b1477",
   "metadata": {},
   "outputs": [
    {
     "name": "stdout",
     "output_type": "stream",
     "text": [
      "time: 748 µs (started: 2024-05-06 21:25:13 +08:00)\n"
     ]
    }
   ],
   "source": [
    "import os\n",
    "os.environ[\"GOOGLE_APPLICATION_CREDENTIALS\"] = os.getcwd()+'/g_keys.json'"
   ]
  },
  {
   "cell_type": "code",
   "execution_count": 18,
   "id": "001e3bf9-a8fa-41f0-a5a3-18acd93be50c",
   "metadata": {},
   "outputs": [
    {
     "name": "stdout",
     "output_type": "stream",
     "text": [
      "time: 1.49 ms (started: 2024-05-06 21:25:11 +08:00)\n"
     ]
    }
   ],
   "source": [
    "def CloudVisionTextExtractor(handwritings):\n",
    "    # convert image from numpy to bytes for submittion to Google Cloud Vision\n",
    "    _, encoded_image = cv2.imencode('.png', handwritings)\n",
    "    content = encoded_image.tobytes()\n",
    "    image = vision.Image(content=content)\n",
    "    \n",
    "    # feed handwriting image segment to the Google Cloud Vision API\n",
    "    client = vision.ImageAnnotatorClient()\n",
    "    response = client.document_text_detection(image=image)\n",
    "    \n",
    "    return response\n",
    "\n",
    "def getTextFromVisionResponse(response):\n",
    "    texts = []\n",
    "    for page in response.full_text_annotation.pages:\n",
    "        for i, block in enumerate(page.blocks):  \n",
    "            for paragraph in block.paragraphs:       \n",
    "                for word in paragraph.words:\n",
    "                    word_text = ''.join([symbol.text for symbol in word.symbols])\n",
    "                    texts.append(word_text)\n",
    "\n",
    "    return ' '.join(texts)"
   ]
  },
  {
   "cell_type": "markdown",
   "id": "6b61f340-8fa7-43fc-9ccc-c5360249a724",
   "metadata": {},
   "source": [
    "## Step 3 : Extract the value that comes after specified title"
   ]
  },
  {
   "cell_type": "code",
   "execution_count": 54,
   "id": "6f340e28-9f38-4976-b3de-435affa3f472",
   "metadata": {},
   "outputs": [
    {
     "data": {
      "text/html": [
       "<div>\n",
       "<style scoped>\n",
       "    .dataframe tbody tr th:only-of-type {\n",
       "        vertical-align: middle;\n",
       "    }\n",
       "\n",
       "    .dataframe tbody tr th {\n",
       "        vertical-align: top;\n",
       "    }\n",
       "\n",
       "    .dataframe thead th {\n",
       "        text-align: right;\n",
       "    }\n",
       "</style>\n",
       "<table border=\"1\" class=\"dataframe\">\n",
       "  <thead>\n",
       "    <tr style=\"text-align: right;\">\n",
       "      <th></th>\n",
       "      <th>Aircraft Model</th>\n",
       "      <th>Registration Number</th>\n",
       "      <th>Departure Airport</th>\n",
       "      <th>Arrival Airport</th>\n",
       "      <th>Crew</th>\n",
       "      <th>Fuel</th>\n",
       "      <th>Load</th>\n",
       "    </tr>\n",
       "  </thead>\n",
       "  <tbody>\n",
       "    <tr>\n",
       "      <th>0</th>\n",
       "      <td>Airbus A320</td>\n",
       "      <td>9M - XX1</td>\n",
       "      <td>KUL</td>\n",
       "      <td>SIN</td>\n",
       "      <td>4</td>\n",
       "      <td>12k</td>\n",
       "      <td>150</td>\n",
       "    </tr>\n",
       "  </tbody>\n",
       "</table>\n",
       "</div>"
      ],
      "text/plain": [
       "  Aircraft Model Registration Number Departure Airport Arrival Airport Crew  \\\n",
       "0    Airbus A320            9M - XX1               KUL             SIN    4   \n",
       "\n",
       "  Fuel Load  \n",
       "0  12k  150  "
      ]
     },
     "execution_count": 54,
     "metadata": {},
     "output_type": "execute_result"
    },
    {
     "name": "stdout",
     "output_type": "stream",
     "text": [
      "time: 2.11 s (started: 2024-05-06 21:48:15 +08:00)\n"
     ]
    }
   ],
   "source": [
    "image_path = 'img.png'  \n",
    "\n",
    "# Load the image\n",
    "img = cv2.imread(image_path)\n",
    "\n",
    "# Convert to grayscale\n",
    "image = cv2.cvtColor(img, cv2.COLOR_BGR2GRAY)\n",
    "\n",
    "# Define substring labels\n",
    "substrings = {\n",
    "    \"Aircraft Model\": \"Aircraft Model\",\n",
    "    \"Registration Number\": \"Registration Number\",\n",
    "    \"Departure Airport\": \"Departure Airport\",\n",
    "    \"Arrival Airport\": \"Arrival Airport\",\n",
    "    \"Crew\": \"Crew\",\n",
    "    \"Fuel\": \"Fuel\",\n",
    "    \"Load\": \"Load\"\n",
    "}\n",
    "\n",
    "# Loop through the coordinates\n",
    "columns = []\n",
    "values = []\n",
    "\n",
    "for i in range(1, len(df_SegmentLocations) - 1):\n",
    "    y = df_SegmentLocations['SegmentStart'][i]\n",
    "    h = df_SegmentLocations['Height'][i]\n",
    "    \n",
    "    w = lineLocations.shape[1]\n",
    "\n",
    "    try:\n",
    "        cropped_image = image[y:y + h, 0:w] \n",
    "        response = CloudVisionTextExtractor(cropped_image)\n",
    "        result = getTextFromVisionResponse(response)\n",
    "        \n",
    "        # Remove unwanted text\n",
    "        cleaned_text = result.replace(\"☐\", \"\")\n",
    "        \n",
    "        # Loop through substrings to find matching substring label\n",
    "        for substring_label, substring in substrings.items():\n",
    "            if substring in cleaned_text:\n",
    "                # Extract text after the substring\n",
    "                text = cleaned_text.split(substring)[-1].strip()\n",
    "                columns.append(substring_label)\n",
    "                values.append(text)\n",
    "                break  # Break loop once substring is found\n",
    "\n",
    "    except IndexError:\n",
    "        print(f\"Empty text from Image - skipping\")\n",
    "\n",
    "df = pd.DataFrame([values], columns=columns)\n",
    "df"
   ]
  },
  {
   "cell_type": "code",
   "execution_count": null,
   "id": "9bf455f2-e148-411b-b3ce-ddb09b42e970",
   "metadata": {},
   "outputs": [],
   "source": [
    "# proceed to push dataframe to preferred data warehouse - example used for RedShift\n",
    "df.to_sql(\n",
    "            name = 'aircraft_journey_summary',\n",
    "            con = redshift_engine,\n",
    "            schema = 'airasia',\n",
    "            if_exists = 'append',\n",
    "            index = False,\n",
    "            method = 'multi',\n",
    "            chunksize = 5000\n",
    "            )"
   ]
  },
  {
   "cell_type": "markdown",
   "id": "a3c0dc78-0128-4718-a4d7-b631957aaf1b",
   "metadata": {
    "jp-MarkdownHeadingCollapsed": true,
    "tags": []
   },
   "source": [
    "# Appendix"
   ]
  },
  {
   "cell_type": "markdown",
   "id": "6bf19210-e0d9-45b7-9f37-ff3466691203",
   "metadata": {
    "tags": []
   },
   "source": [
    "## 1) Google Cloud Vision API"
   ]
  },
  {
   "cell_type": "code",
   "execution_count": 34,
   "id": "d6544c18-09c0-4b10-9f1d-071646fd406c",
   "metadata": {
    "tags": []
   },
   "outputs": [
    {
     "name": "stdout",
     "output_type": "stream",
     "text": [
      "time: 1.54 ms (started: 2024-05-06 21:40:34 +08:00)\n"
     ]
    }
   ],
   "source": [
    "import os\n",
    "os.environ[\"GOOGLE_APPLICATION_CREDENTIALS\"] = os.getcwd()+'/g_keys.json'"
   ]
  },
  {
   "cell_type": "code",
   "execution_count": 35,
   "id": "763c7f23-f21e-4139-9d94-a85b7dff8e99",
   "metadata": {},
   "outputs": [
    {
     "data": {
      "text/plain": [
       "'/Users/ad1049-ade-mb-1/Huimin_Local/03_Exercises/01_Machine Learning/04_AirAsia/g_keys.json'"
      ]
     },
     "execution_count": 35,
     "metadata": {},
     "output_type": "execute_result"
    },
    {
     "name": "stdout",
     "output_type": "stream",
     "text": [
      "time: 2.31 ms (started: 2024-05-06 21:40:35 +08:00)\n"
     ]
    }
   ],
   "source": [
    "GOOGLE_APPLICATION_CREDENTIALS = os.environ.get('GOOGLE_APPLICATION_CREDENTIALS')\n",
    "GOOGLE_APPLICATION_CREDENTIALS"
   ]
  },
  {
   "cell_type": "code",
   "execution_count": 36,
   "id": "04344356-853f-4602-8eae-4956e7db0c8c",
   "metadata": {
    "tags": []
   },
   "outputs": [
    {
     "name": "stdout",
     "output_type": "stream",
     "text": [
      "time: 1.82 ms (started: 2024-05-06 21:40:36 +08:00)\n"
     ]
    }
   ],
   "source": [
    "\n",
    "def CloudVisionTextExtractor(handwritings):\n",
    "    # convert image from numpy to bytes for submittion to Google Cloud Vision\n",
    "    _, encoded_image = cv2.imencode('.png', handwritings)\n",
    "    content = encoded_image.tobytes()\n",
    "    image = vision.Image(content=content)\n",
    "    \n",
    "    # feed handwriting image segment to the Google Cloud Vision API\n",
    "    client = vision.ImageAnnotatorClient()\n",
    "    response = client.document_text_detection(image=image)\n",
    "    \n",
    "    return response\n",
    "\n",
    "def getTextFromVisionResponse(response):\n",
    "    texts = []\n",
    "    for page in response.full_text_annotation.pages:\n",
    "        for i, block in enumerate(page.blocks):  \n",
    "            for paragraph in block.paragraphs:       \n",
    "                for word in paragraph.words:\n",
    "                    word_text = ''.join([symbol.text for symbol in word.symbols])\n",
    "                    texts.append(word_text)\n",
    "\n",
    "    return ' '.join(texts)"
   ]
  },
  {
   "cell_type": "markdown",
   "id": "818a8286-6a33-4095-888f-7f6f0af9703d",
   "metadata": {},
   "source": [
    "## 1.1) Function for Image to Text Extraction"
   ]
  },
  {
   "cell_type": "code",
   "execution_count": 37,
   "id": "52accaff-3d18-4ccf-a59d-7024ef4d9e05",
   "metadata": {},
   "outputs": [
    {
     "name": "stdout",
     "output_type": "stream",
     "text": [
      "time: 1.46 ms (started: 2024-05-06 21:40:39 +08:00)\n"
     ]
    }
   ],
   "source": [
    "def CloudVisionTextExtractor(handwritings):\n",
    "    # convert image from numpy to bytes for submittion to Google Cloud Vision\n",
    "    _, encoded_image = cv2.imencode('.png', handwritings)\n",
    "    content = encoded_image.tobytes()\n",
    "    image = vision.Image(content=content)\n",
    "    \n",
    "    # feed handwriting image segment to the Google Cloud Vision API\n",
    "    client = vision.ImageAnnotatorClient()\n",
    "    response = client.document_text_detection(image=image)\n",
    "    \n",
    "    return response\n",
    "\n",
    "def getTextFromVisionResponse(response):\n",
    "    texts = []\n",
    "    for page in response.full_text_annotation.pages:\n",
    "        for i, block in enumerate(page.blocks):  \n",
    "            for paragraph in block.paragraphs:       \n",
    "                for word in paragraph.words:\n",
    "                    word_text = ''.join([symbol.text for symbol in word.symbols])\n",
    "                    texts.append(word_text)\n",
    "\n",
    "    return ' '.join(texts)"
   ]
  },
  {
   "cell_type": "code",
   "execution_count": 38,
   "id": "2755ce3b-a3f6-4590-97c6-c2e9f63c6feb",
   "metadata": {},
   "outputs": [
    {
     "data": {
      "text/plain": [
       "'Aircraft Model Registration Number Departure Airport Arrival Airport Crew Fuel Load Aircraft Journey Summary Airbus A320 9M - XX1 KUL SIN 4 12k 150'"
      ]
     },
     "execution_count": 38,
     "metadata": {},
     "output_type": "execute_result"
    },
    {
     "data": {
      "image/png": "[encoded data removed]",
      "text/plain": [
       "<Figure size 432x288 with 1 Axes>"
      ]
     },
     "metadata": {
      "needs_background": "light"
     },
     "output_type": "display_data"
    },
    {
     "name": "stdout",
     "output_type": "stream",
     "text": [
      "time: 747 ms (started: 2024-05-06 21:40:40 +08:00)\n"
     ]
    }
   ],
   "source": [
    "image_path = 'img.png'  \n",
    "\n",
    "# Load the image\n",
    "img = cv2.imread(image_path)\n",
    "\n",
    "# Convert to grayscale\n",
    "gray = cv2.cvtColor(img, cv2.COLOR_BGR2GRAY)\n",
    "plt.imshow(gray, cmap='gray')\n",
    "\n",
    "response = CloudVisionTextExtractor(img)\n",
    "text = getTextFromVisionResponse(response)\n",
    "text"
   ]
  },
  {
   "cell_type": "code",
   "execution_count": 39,
   "id": "ab511af9-f8ec-42de-8a30-313a029a9959",
   "metadata": {},
   "outputs": [
    {
     "name": "stdout",
     "output_type": "stream",
     "text": [
      "time: 594 ms (started: 2024-05-06 21:40:43 +08:00)\n"
     ]
    }
   ],
   "source": [
    "# Create a Vision API client\n",
    "client = vision.ImageAnnotatorClient()\n",
    "\n",
    "# Read the image from file\n",
    "with io.open('img.png', 'rb') as image_file:\n",
    "    content = image_file.read()\n",
    "\n",
    "# Construct an image instance\n",
    "image = vision.Image(content=content)\n",
    "\n",
    "# Perform text detection\n",
    "response = client.document_text_detection(image=image)"
   ]
  },
  {
   "cell_type": "markdown",
   "id": "3b6e2dbc-ac3e-4404-b77a-5a955344d5aa",
   "metadata": {},
   "source": [
    "## 1.2) Converting Img to Text - row wise"
   ]
  },
  {
   "cell_type": "code",
   "execution_count": 40,
   "id": "da4477af-3c10-42e3-8b94-f5afd3025f32",
   "metadata": {},
   "outputs": [
    {
     "name": "stdout",
     "output_type": "stream",
     "text": [
      "time: 2.09 s (started: 2024-05-06 21:40:45 +08:00)\n"
     ]
    }
   ],
   "source": [
    "# List of tuples with coordinates and sizes\n",
    "coordinates = [\n",
    "    # (30, 40, 1200, 65), # Aircraft Journey Summary\n",
    "    (30, 110, 1200, 65), # Registration Number\n",
    "    (30, 180, 1200, 65), # Departure Airport\n",
    "    (30,240,1200,65), # Arrival Airport\n",
    "    (30,310,1200,65), # Crew\n",
    "    (30,380,1200,65), # Fuel\n",
    "    (30,440,1200,65), # Load\n",
    "    (30,510,1200,65)\n",
    "]\n",
    "\n",
    "# Loop through the coordinates\n",
    "columns = []\n",
    "values = []\n",
    "\n",
    "for (x1, y1, w1, h1) in coordinates:\n",
    "    # Crop the image using the current coordinates\n",
    "    cropped_image = gray[y1:y1+h1, x1:x1+w1]\n",
    "    response = CloudVisionTextExtractor(cropped_image)\n",
    "    result = getTextFromVisionResponse(response)\n",
    "    text = result.rsplit(' ',1)\n",
    "    columns.append(text[0])\n",
    "    values.append(text[1])\n",
    "    \n",
    "df = pd.DataFrame([values], columns=columns)"
   ]
  },
  {
   "cell_type": "code",
   "execution_count": 41,
   "id": "ab2b22b8-779b-4bc4-8068-102c7a32c6ef",
   "metadata": {},
   "outputs": [
    {
     "data": {
      "text/html": [
       "<div>\n",
       "<style scoped>\n",
       "    .dataframe tbody tr th:only-of-type {\n",
       "        vertical-align: middle;\n",
       "    }\n",
       "\n",
       "    .dataframe tbody tr th {\n",
       "        vertical-align: top;\n",
       "    }\n",
       "\n",
       "    .dataframe thead th {\n",
       "        text-align: right;\n",
       "    }\n",
       "</style>\n",
       "<table border=\"1\" class=\"dataframe\">\n",
       "  <thead>\n",
       "    <tr style=\"text-align: right;\">\n",
       "      <th></th>\n",
       "      <th>Aircraft Model Airbus</th>\n",
       "      <th>Registration Number 9M -</th>\n",
       "      <th>Departure Airport</th>\n",
       "      <th>Arrival Airport</th>\n",
       "      <th>Crew</th>\n",
       "      <th>Fuel</th>\n",
       "      <th>Load</th>\n",
       "    </tr>\n",
       "  </thead>\n",
       "  <tbody>\n",
       "    <tr>\n",
       "      <th>0</th>\n",
       "      <td>A320</td>\n",
       "      <td>XX1</td>\n",
       "      <td>KUL</td>\n",
       "      <td>SIN</td>\n",
       "      <td>4</td>\n",
       "      <td>12k</td>\n",
       "      <td>150</td>\n",
       "    </tr>\n",
       "  </tbody>\n",
       "</table>\n",
       "</div>"
      ],
      "text/plain": [
       "  Aircraft Model Airbus Registration Number 9M - Departure Airport  \\\n",
       "0                  A320                      XX1               KUL   \n",
       "\n",
       "  Arrival Airport Crew Fuel Load  \n",
       "0             SIN    4  12k  150  "
      ]
     },
     "execution_count": 41,
     "metadata": {},
     "output_type": "execute_result"
    },
    {
     "name": "stdout",
     "output_type": "stream",
     "text": [
      "time: 10.2 ms (started: 2024-05-06 21:40:49 +08:00)\n"
     ]
    }
   ],
   "source": [
    "df"
   ]
  },
  {
   "cell_type": "markdown",
   "id": "4b751de5-671e-4b53-8494-264d41ac9375",
   "metadata": {},
   "source": [
    "Conclusion Google Cloud Vision API:\n",
    "- From the above results, we can see that Google Cloud Vision API has done a much better job in extracting texts from image files than Tesseract."
   ]
  },
  {
   "cell_type": "markdown",
   "id": "568cabc5-ff56-4ced-9029-03a2501c0e37",
   "metadata": {},
   "source": [
    "## 2) Tesseract (Not preferred for handwritten notes)"
   ]
  },
  {
   "cell_type": "markdown",
   "id": "b98abd69-6833-4da8-8509-d319fb1a2186",
   "metadata": {},
   "source": [
    "## 2.1) Extracting Text from Img"
   ]
  },
  {
   "cell_type": "code",
   "execution_count": 42,
   "id": "913bc5d1-0547-45f5-abc4-8010ac228462",
   "metadata": {
    "tags": []
   },
   "outputs": [
    {
     "name": "stdout",
     "output_type": "stream",
     "text": [
      "{'Aircraft Model': 'Airbus A320', 'Registration Number': 'IM-XX1', 'Departure Airport': 'kw L', 'Arrival Airport': 'gIN', 'Crew': '4', 'Fuel': '1 lk', 'Load': '450'}\n",
      "time: 3.07 s (started: 2024-05-06 21:41:07 +08:00)\n"
     ]
    }
   ],
   "source": [
    "image_path = 'img.png'  \n",
    "\n",
    "# Load the image\n",
    "img = cv2.imread(image_path)\n",
    "\n",
    "# Convert to grayscale\n",
    "gray = cv2.cvtColor(img, cv2.COLOR_BGR2GRAY)\n",
    "\n",
    "# Extract text using OCR\n",
    "extract_data = pytesseract.image_to_string(gray, lang='eng')\n",
    "\n",
    "\n",
    "# Define substring labels\n",
    "substrings = {\n",
    "    \"Aircraft Journey Summary\": \"Aircraft Journey Summary\",\n",
    "    \"Aircraft Model\": \"Aircraft Model\",\n",
    "    \"Registration Number\": \"Registration Number\",\n",
    "    \"Departure Airport\": \"Departure Airport\",\n",
    "    \"Arrival Airport\": \"Arrival Airport\",\n",
    "    \"Crew\": \"Crew\",\n",
    "    \"Fuel\": \"Fuel\",\n",
    "    \"Load\": \"Load\"\n",
    "}\n",
    "\n",
    "# Extract text between substrings\n",
    "data = {}\n",
    "for key, value in substrings.items():\n",
    "    match = re.search(rf\"{value}\\s*([\\s\\S]+?)(?={substrings[key + ' Next'] if key + ' Next' in substrings else '$'})\", extract_data)\n",
    "    if match:\n",
    "        data[key] = match.group(1).strip()\n",
    "\n",
    "# Remove unwanted values\n",
    "cleaned_data = {key: value.split('\\n', -1)[0] for key, value in data.items()}\n",
    "print(cleaned_data)"
   ]
  },
  {
   "cell_type": "markdown",
   "id": "ca24eeab-7974-4242-9a3a-dd72ddecbfaa",
   "metadata": {},
   "source": [
    "## 2.2) Extracting text from page segment"
   ]
  },
  {
   "cell_type": "code",
   "execution_count": 43,
   "id": "1dbc2b60-8a48-4a3e-a19e-e95392c29103",
   "metadata": {},
   "outputs": [
    {
     "data": {
      "text/plain": [
       "<matplotlib.patches.Rectangle at 0x7faeac628370>"
      ]
     },
     "execution_count": 43,
     "metadata": {},
     "output_type": "execute_result"
    },
    {
     "data": {
      "image/png": "[encoded data removed]",
      "text/plain": [
       "<Figure size 432x288 with 1 Axes>"
      ]
     },
     "metadata": {
      "needs_background": "light"
     },
     "output_type": "display_data"
    },
    {
     "name": "stdout",
     "output_type": "stream",
     "text": [
      "time: 281 ms (started: 2024-05-06 21:41:10 +08:00)\n"
     ]
    }
   ],
   "source": [
    "ref_img = cv2.imread('img.png')\n",
    "ref_img = cv2.cvtColor(ref_img, cv2.COLOR_BGR2RGB)\n",
    "plt.imshow(ref_img)\n",
    "ref = cv2.cvtColor(ref_img, cv2.COLOR_BGR2GRAY)\n",
    "ref = cv2.GaussianBlur(ref, (3,3), 0)\n",
    "ref_roi = cv2.threshold(ref, 225, 255, cv2.THRESH_BINARY_INV)[1]\n",
    "x,y,w,h = cv2.boundingRect(ref_roi)\n",
    "\n",
    "ROI = ref[y:y+h, x:x+w]\n",
    "plt.imshow(ROI, cmap='gray')\n",
    "\n",
    "# Adjust ROI parameters\n",
    "\n",
    "# Boxing\n",
    "x1, y1, w1, h1 = (20,110,1300,500)\n",
    "plt.gca().add_patch(Rectangle((x1,y1),w1,h1, edgecolor='red', facecolor='none', lw=2))\n"
   ]
  },
  {
   "cell_type": "code",
   "execution_count": 44,
   "id": "ec003ae8-5809-45e6-a2e6-2a40135f9873",
   "metadata": {},
   "outputs": [
    {
     "data": {
      "image/png": "[encoded data removed]",
      "text/plain": [
       "<Figure size 432x288 with 1 Axes>"
      ]
     },
     "metadata": {
      "needs_background": "light"
     },
     "output_type": "display_data"
    },
    {
     "name": "stdout",
     "output_type": "stream",
     "text": [
      "time: 607 ms (started: 2024-05-06 21:41:11 +08:00)\n"
     ]
    }
   ],
   "source": [
    "image_path = 'img.png'  \n",
    "\n",
    "# Load the image\n",
    "img = cv2.imread(image_path)\n",
    "\n",
    "# Convert to grayscale\n",
    "gray = cv2.cvtColor(img, cv2.COLOR_BGR2GRAY)\n",
    "x1, y1, w1, h1 = (20,110,1300,500)\n",
    "img = gray[y1:y1+h1, x1:x1+w1]\n",
    "plt.imshow(img, cmap='gray')\n",
    "\n",
    "# Extract text using OCR\n",
    "extract_data = pytesseract.image_to_string(gray, lang='eng')\n",
    "\n"
   ]
  },
  {
   "cell_type": "code",
   "execution_count": 45,
   "id": "63bbdb1a-03d5-44f2-9cfd-d286f460bf5f",
   "metadata": {},
   "outputs": [
    {
     "name": "stdout",
     "output_type": "stream",
     "text": [
      "{'Aircraft Model': 'Airbus A320', 'Registration Number': 'IM-XX1', 'Departure Airport': 'kw L', 'Arrival Airport': 'gIN', 'Crew': '4', 'Fuel': '1 lk', 'Load': '450'}\n",
      "time: 3.97 ms (started: 2024-05-06 21:41:13 +08:00)\n"
     ]
    }
   ],
   "source": [
    "\n",
    "# Define substring labels\n",
    "substrings = {\n",
    "    \"Aircraft Journey Summary\": \"Aircraft Journey Summary\",\n",
    "    \"Aircraft Model\": \"Aircraft Model\",\n",
    "    \"Registration Number\": \"Registration Number\",\n",
    "    \"Departure Airport\": \"Departure Airport\",\n",
    "    \"Arrival Airport\": \"Arrival Airport\",\n",
    "    \"Crew\": \"Crew\",\n",
    "    \"Fuel\": \"Fuel\",\n",
    "    \"Load\": \"Load\"\n",
    "}\n",
    "\n",
    "# Extract text between substrings\n",
    "data = {}\n",
    "for key, value in substrings.items():\n",
    "    match = re.search(rf\"{value}\\s*([\\s\\S]+?)(?={substrings[key + ' Next'] if key + ' Next' in substrings else '$'})\", extract_data)\n",
    "    if match:\n",
    "        data[key] = match.group(1).strip()\n",
    "\n",
    "# Remove unwanted values\n",
    "cleaned_data = {key: value.split('\\n', -1)[0] for key, value in data.items()}\n",
    "print(cleaned_data)"
   ]
  },
  {
   "cell_type": "code",
   "execution_count": 46,
   "id": "e0e64e0e-15e8-43f4-9d28-3b38b96af6ff",
   "metadata": {},
   "outputs": [
    {
     "data": {
      "text/html": [
       "<div>\n",
       "<style scoped>\n",
       "    .dataframe tbody tr th:only-of-type {\n",
       "        vertical-align: middle;\n",
       "    }\n",
       "\n",
       "    .dataframe tbody tr th {\n",
       "        vertical-align: top;\n",
       "    }\n",
       "\n",
       "    .dataframe thead th {\n",
       "        text-align: right;\n",
       "    }\n",
       "</style>\n",
       "<table border=\"1\" class=\"dataframe\">\n",
       "  <thead>\n",
       "    <tr style=\"text-align: right;\">\n",
       "      <th></th>\n",
       "      <th>Aircraft Model</th>\n",
       "      <th>Registration Number</th>\n",
       "      <th>Departure Airport</th>\n",
       "      <th>Arrival Airport</th>\n",
       "      <th>Crew</th>\n",
       "      <th>Fuel</th>\n",
       "      <th>Load</th>\n",
       "    </tr>\n",
       "  </thead>\n",
       "  <tbody>\n",
       "    <tr>\n",
       "      <th>0</th>\n",
       "      <td>Airbus A320</td>\n",
       "      <td>IM-XX1</td>\n",
       "      <td>kw L</td>\n",
       "      <td>gIN</td>\n",
       "      <td>4</td>\n",
       "      <td>1 lk</td>\n",
       "      <td>450</td>\n",
       "    </tr>\n",
       "  </tbody>\n",
       "</table>\n",
       "</div>"
      ],
      "text/plain": [
       "  Aircraft Model Registration Number Departure Airport Arrival Airport Crew  \\\n",
       "0    Airbus A320              IM-XX1              kw L             gIN    4   \n",
       "\n",
       "   Fuel Load  \n",
       "0  1 lk  450  "
      ]
     },
     "execution_count": 46,
     "metadata": {},
     "output_type": "execute_result"
    },
    {
     "name": "stdout",
     "output_type": "stream",
     "text": [
      "time: 9.7 ms (started: 2024-05-06 21:41:15 +08:00)\n"
     ]
    }
   ],
   "source": [
    "df = pd.json_normalize(cleaned_data)\n",
    "df\n"
   ]
  },
  {
   "cell_type": "markdown",
   "id": "5da4817a-11c5-41b4-a01d-ff2c68e0e24e",
   "metadata": {},
   "source": [
    "Conclusion using Tesseract :\n",
    "- Tesseract works well for pdf documents and extracting img to text by segmentation\n",
    "- Tesseract OCR doesn't work well on handwritten texts. Poor results are shown when passing the handwritten segment into Tesseract.\n"
   ]
  }
 ],
 "metadata": {
  "kernelspec": {
   "display_name": "Python 3 (ipykernel)",
   "language": "python",
   "name": "python3"
  },
  "language_info": {
   "codemirror_mode": {
    "name": "ipython",
    "version": 3
   },
   "file_extension": ".py",
   "mimetype": "text/x-python",
   "name": "python",
   "nbconvert_exporter": "python",
   "pygments_lexer": "ipython3",
   "version": "3.9.12"
  }
 },
 "nbformat": 4,
 "nbformat_minor": 5
}
